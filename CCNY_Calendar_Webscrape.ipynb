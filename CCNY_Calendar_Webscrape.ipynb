{
  "nbformat": 4,
  "nbformat_minor": 0,
  "metadata": {
    "colab": {
      "provenance": []
    },
    "kernelspec": {
      "name": "python3",
      "display_name": "Python 3"
    },
    "language_info": {
      "name": "python"
    }
  },
  "cells": [
    {
      "cell_type": "code",
      "execution_count": 1,
      "metadata": {
        "id": "xn68Ryx0Wsog"
      },
      "outputs": [],
      "source": [
        "# Import necessary libraries\n",
        "import requests\n",
        "import pandas as pd\n",
        "from bs4 import BeautifulSoup"
      ]
    },
    {
      "cell_type": "code",
      "source": [
        "# Create url variable\n",
        "url = \"https://www.ccny.cuny.edu/registrar/fall\"\n",
        "\n",
        "# Eackage request\n",
        "r = requests.get(url)\n",
        "\n",
        "# Extract response as html\n",
        "html_doc = r.text\n",
        "\n",
        "#Create BeautifulSoup object from html\n",
        "soup = BeautifulSoup(html_doc, 'html.parser')"
      ],
      "metadata": {
        "id": "HOurbzPNXT4T"
      },
      "execution_count": 2,
      "outputs": []
    },
    {
      "cell_type": "code",
      "source": [
        "# Scan for table\n",
        "table = soup.find('table')\n",
        "\n",
        "# Finds all rows in table\n",
        "rows = table.find_all('tr')\n",
        "\n",
        "# Create a dictionary of list\n",
        "data = {\n",
        "    \"date\" : [],\n",
        "    \"dow\"  : [],\n",
        "    \"text\" : []\n",
        "}\n",
        "\n",
        "# Default year is hard coded since it isn't explicitly stated in the website\n",
        "default_year = \"2021\""
      ],
      "metadata": {
        "id": "Iy7a7Ts1ZUNy"
      },
      "execution_count": 3,
      "outputs": []
    },
    {
      "cell_type": "code",
      "source": [
        "for row in rows[1:]:\n",
        "  cols = row.find_all('td')\n",
        "  date_str = cols[0].get_text(strip=True)\n",
        "  text_str = cols[2].get_text(strip=True)\n",
        "\n",
        "  # Remove tabs and newlines\n",
        "  text_str = text_str.replace('\\t', ' ')\n",
        "  text_str = text_str.replace('\\n', ' ')\n",
        "\n",
        "  print(date_str)\n",
        "  print(text_str)"
      ],
      "metadata": {
        "colab": {
          "base_uri": "https://localhost:8080/"
        },
        "id": "YtxXLQ1SV7sY",
        "outputId": "14ce49dd-10f0-4952-a12e-de4df213e434"
      },
      "execution_count": 7,
      "outputs": [
        {
          "output_type": "stream",
          "name": "stdout",
          "text": [
            "August 01\n",
            "Application for degree for January and February 2022 begins\n",
            "August 18\n",
            "Last day to apply for Study Abroad\n",
            "August 24\n",
            "Last day of Registration;Last day to file ePermit for the Fall 2021;Last day to drop classes for 100% tuition refund;\n",
            "August 25\n",
            "Start of Fall Term;Classes begin;Initial Registration Appeals begin;\n",
            "August 25 - 31\n",
            "Change of program period; late fees apply\n",
            "August 26\n",
            "Last day for Independent Study\n",
            "August 28\n",
            "First day of Saturday Classes\n",
            "August 31\n",
            "Last day to add a class to an existing enrollment;Last day for 75% tuition refund;Financial Aid Certification Enrollment Status date;Last day to apply for Audit option;Last day to drop without the grade of 'WD';Initial Registration Appeals end;\n",
            "September 01\n",
            "Verification of Enrollment rosters available to faculty;Course Withdrawal drop period begins (A grade of 'WD' is assigned to students who officially drop a class);\n",
            "September 03 - 08\n",
            "No classes scheduled\n",
            "September 06\n",
            "College Closed;Last day for 50% tuition refund;\n",
            "September 09\n",
            "Freshman Convocation\n",
            "September 14\n",
            "Last day for 25% tuition refund;Census date;Last day to change or declare a major/minor to be effective in Fall 2021;Last day to drop without the grade of 'W';Course Withdrawal drop period ends (Last day for 'WD' grades);Verification of Enrollment Rosters Dues from Faculty;\n",
            "September 15\n",
            "Assignment of 'WN' grades for non-attendance;Course Withdrawal period begins (A grade of 'W' is assigned to students who officially drop a class) - No Refund;100% Tuition obligation for course drops;\n",
            "September 15 - 16\n",
            "No classes scheduled\n",
            "September 23\n",
            "Last day to submit proof of immunization for NYS residents;\n",
            "September 24\n",
            "Assignment of 'WA' grades for immunization non-compliance\n",
            "October 01\n",
            "Advising month begins for Spring and Winter enrollment\n",
            "October 08\n",
            "Deadline for filing application for degree for January and February 2022;Last day to submit proof of immunization for non-NYS residents;\n",
            "October 11\n",
            "College Closed\n",
            "November 01\n",
            "'INC' grades for Spring 2021 and Winter 2021 for Undergraduate students convert to 'FIN';'INC' grades for Summer 2020 and Fall 2020 for Graduate students convert to 'FIN';\n",
            "November 02\n",
            "Registration appointments for Winter and Spring 2022 begin for continuing students.  Check your CUNYFirst account for your appointment date and time.\n",
            "November 04\n",
            "Last day to file for P/NC option\n",
            "November 06\n",
            "60% Date of the term\n",
            "November 23\n",
            "'INC' grades for Summer 2021 for Undergraduate students convert to 'FIN'\n",
            "November 25 - 28\n",
            "College Closed\n",
            "December 11\n",
            "Last day of Saturday Classes\n",
            "December 13\n",
            "Course Withdrawal period ends (Last day to withdraw from a class with the grade of 'W');Last day of Classes;\n",
            "December 14\n",
            "Reading Day\n",
            "December 15 - 21\n",
            "Final Examinations\n",
            "December 21\n",
            "End of Term\n",
            "December 24 - 25\n",
            "College Closed\n",
            "December 27\n",
            "College Closed\n",
            "December 28\n",
            "Final Grade Submission Deadline for Fall 2021\n",
            "December 31\n",
            "College Closed\n",
            "January 1, 2022\n",
            "College Closed;Fall 2021 Degree Conferral Date;\n"
          ]
        }
      ]
    }
  ]
}