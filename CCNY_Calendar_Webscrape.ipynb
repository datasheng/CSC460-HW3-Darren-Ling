{
  "nbformat": 4,
  "nbformat_minor": 0,
  "metadata": {
    "colab": {
      "provenance": []
    },
    "kernelspec": {
      "name": "python3",
      "display_name": "Python 3"
    },
    "language_info": {
      "name": "python"
    }
  },
  "cells": [
    {
      "cell_type": "code",
      "execution_count": 1,
      "metadata": {
        "id": "xn68Ryx0Wsog"
      },
      "outputs": [],
      "source": [
        "# Import necessary libraries\n",
        "import requests\n",
        "import pandas as pd\n",
        "from bs4 import BeautifulSoup"
      ]
    },
    {
      "cell_type": "code",
      "source": [
        "# Create url variable\n",
        "url = \"https://www.ccny.cuny.edu/registrar/fall\"\n",
        "\n",
        "# Eackage request\n",
        "r = requests.get(url)\n",
        "\n",
        "# Extract response as html\n",
        "html_doc = r.text\n",
        "\n",
        "#Create BeautifulSoup object from html\n",
        "soup = BeautifulSoup(html_doc, 'html.parser')"
      ],
      "metadata": {
        "id": "HOurbzPNXT4T"
      },
      "execution_count": 2,
      "outputs": []
    },
    {
      "cell_type": "code",
      "source": [],
      "metadata": {
        "id": "Iy7a7Ts1ZUNy"
      },
      "execution_count": null,
      "outputs": []
    }
  ]
}