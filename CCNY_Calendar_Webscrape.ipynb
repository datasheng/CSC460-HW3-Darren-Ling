{
  "nbformat": 4,
  "nbformat_minor": 0,
  "metadata": {
    "colab": {
      "provenance": []
    },
    "kernelspec": {
      "name": "python3",
      "display_name": "Python 3"
    },
    "language_info": {
      "name": "python"
    }
  },
  "cells": [
    {
      "cell_type": "code",
      "execution_count": 65,
      "metadata": {
        "id": "xn68Ryx0Wsog"
      },
      "outputs": [],
      "source": [
        "# Import necessary libraries\n",
        "import requests\n",
        "import pandas as pd\n",
        "from bs4 import BeautifulSoup\n",
        "from datetime import datetime"
      ]
    },
    {
      "cell_type": "code",
      "source": [
        "# Create url variable\n",
        "url = \"https://www.ccny.cuny.edu/registrar/fall\"\n",
        "\n",
        "# Eackage request\n",
        "r = requests.get(url)\n",
        "\n",
        "# Extract response as html\n",
        "html_doc = r.text\n",
        "\n",
        "#Create BeautifulSoup object from html\n",
        "soup = BeautifulSoup(html_doc, 'html.parser')"
      ],
      "metadata": {
        "id": "HOurbzPNXT4T"
      },
      "execution_count": 66,
      "outputs": []
    },
    {
      "cell_type": "code",
      "source": [
        "# Scan for table\n",
        "table = soup.find('table')\n",
        "\n",
        "# Finds all rows in table\n",
        "rows = table.find_all('tr')\n",
        "\n",
        "# Create a list of dictionary\n",
        "data = []\n",
        "\n",
        "# Default year is hard coded since it isn't explicitly stated in the website\n",
        "default_year = \"2021\""
      ],
      "metadata": {
        "id": "Iy7a7Ts1ZUNy"
      },
      "execution_count": 67,
      "outputs": []
    },
    {
      "cell_type": "code",
      "source": [
        "for row in rows[1:]:\n",
        "  cols = row.find_all('td')\n",
        "  date_str = cols[0].get_text(strip=True)\n",
        "  text_str = cols[2].get_text(strip=True)\n",
        "\n",
        "  # Remove tabs and newlines\n",
        "  text_str = text_str.replace('\\t', ' ')\n",
        "  text_str = text_str.replace('\\n', ' ')\n",
        "\n",
        "  # Check if the year for 2022 since there is one date that is 2022\n",
        "  if ',' in date_str:\n",
        "    date_obj = datetime.strptime(date_str, '%B %d, %Y')\n",
        "  else:\n",
        "    # Check case for range of date\n",
        "    if '-' in date_str:\n",
        "      # Need to take care of case when date is a range\n",
        "      start_date_str, end_day_str = date_str.split(\" - \")\n",
        "      start_date = datetime.strptime(f'{start_date_str} {default_year}', '%B %d %Y')\n",
        "      end_date = datetime.strptime(f'{start_date_str.split()[0]} {end_day_str} {default_year}', '%B %d %Y')\n",
        "      # Append each day in the range to data\n",
        "      for single_date in pd.date_range(start=start_date, end=end_date):\n",
        "        day_of_week = single_date.strftime('%A')\n",
        "        data.append({\"Date\": single_date, \"Day of Week\": day_of_week, \"Text\": text_str})\n",
        "    else:\n",
        "      # edge case to handle single dates\n",
        "      date_obj = datetime.strptime(f'{date_str} {default_year}', '%B %d %Y')\n",
        "\n",
        "  # Get the day of the week\n",
        "  day_of_week = date_obj.strftime('%A')\n",
        "\n",
        "  # Append data to data list\n",
        "  data.append({\"Date\": date_obj, \"Day of Week\": day_of_week, \"Text\": text_str})\n",
        "\n",
        "#print(data)"
      ],
      "metadata": {
        "id": "YtxXLQ1SV7sY"
      },
      "execution_count": 68,
      "outputs": []
    },
    {
      "cell_type": "code",
      "source": [
        "# Create data frame\n",
        "df = pd.DataFrame(data, columns=['Date', 'Day of Week', 'Text'])\n",
        "# Set index\n",
        "df.set_index('Date', inplace=True)\n",
        "df.sort_index(inplace=True)"
      ],
      "metadata": {
        "id": "eFx3qlEDumgO"
      },
      "execution_count": 69,
      "outputs": []
    },
    {
      "cell_type": "code",
      "source": [
        "# Print result\n",
        "print(df.head(60))"
      ],
      "metadata": {
        "colab": {
          "base_uri": "https://localhost:8080/"
        },
        "id": "uN8tEpUEvyH8",
        "outputId": "0b128162-bd02-45e1-80e7-eab112de0435"
      },
      "execution_count": 70,
      "outputs": [
        {
          "output_type": "stream",
          "name": "stdout",
          "text": [
            "           Day of Week                                               Text\n",
            "Date                                                                     \n",
            "2021-08-01      Sunday  Application for degree for January and Februar...\n",
            "2021-08-18   Wednesday                 Last day to apply for Study Abroad\n",
            "2021-08-24     Tuesday  Last day of Registration;Last day to file ePer...\n",
            "2021-08-25   Wednesday  Start of Fall Term;Classes begin;Initial Regis...\n",
            "2021-08-25   Wednesday          Change of program period; late fees apply\n",
            "2021-08-25   Wednesday          Change of program period; late fees apply\n",
            "2021-08-26    Thursday          Change of program period; late fees apply\n",
            "2021-08-26    Thursday                     Last day for Independent Study\n",
            "2021-08-27      Friday          Change of program period; late fees apply\n",
            "2021-08-28    Saturday          Change of program period; late fees apply\n",
            "2021-08-28    Saturday                      First day of Saturday Classes\n",
            "2021-08-29      Sunday          Change of program period; late fees apply\n",
            "2021-08-30      Monday          Change of program period; late fees apply\n",
            "2021-08-31     Tuesday          Change of program period; late fees apply\n",
            "2021-08-31     Tuesday  Last day to add a class to an existing enrollm...\n",
            "2021-09-01   Wednesday                               No classes scheduled\n",
            "2021-09-01   Wednesday  Verification of Enrollment rosters available t...\n",
            "2021-09-03      Friday                               No classes scheduled\n",
            "2021-09-04    Saturday                               No classes scheduled\n",
            "2021-09-05      Sunday                               No classes scheduled\n",
            "2021-09-06      Monday                               No classes scheduled\n",
            "2021-09-06      Monday    College Closed;Last day for 50% tuition refund;\n",
            "2021-09-07     Tuesday                               No classes scheduled\n",
            "2021-09-08   Wednesday                               No classes scheduled\n",
            "2021-09-09    Thursday                               Freshman Convocation\n",
            "2021-09-14     Tuesday  Last day for 25% tuition refund;Census date;La...\n",
            "2021-09-15   Wednesday                               No classes scheduled\n",
            "2021-09-15   Wednesday  Assignment of 'WN' grades for non-attendance;C...\n",
            "2021-09-15   Wednesday                               No classes scheduled\n",
            "2021-09-16    Thursday                               No classes scheduled\n",
            "2021-09-23    Thursday  Last day to submit proof of immunization for N...\n",
            "2021-09-24      Friday  Assignment of 'WA' grades for immunization non...\n",
            "2021-10-01      Friday  Advising month begins for Spring and Winter en...\n",
            "2021-10-08      Friday  Deadline for filing application for degree for...\n",
            "2021-10-11      Monday                                     College Closed\n",
            "2021-11-01      Monday  'INC' grades for Spring 2021 and Winter 2021 f...\n",
            "2021-11-02     Tuesday  Registration appointments for Winter and Sprin...\n",
            "2021-11-04    Thursday                   Last day to file for P/NC option\n",
            "2021-11-06    Saturday                               60% Date of the term\n",
            "2021-11-23     Tuesday  'INC' grades for Summer 2021 for Undergraduate...\n",
            "2021-11-23     Tuesday                                     College Closed\n",
            "2021-11-25    Thursday                                     College Closed\n",
            "2021-11-26      Friday                                     College Closed\n",
            "2021-11-27    Saturday                                     College Closed\n",
            "2021-11-28      Sunday                                     College Closed\n",
            "2021-12-11    Saturday                       Last day of Saturday Classes\n",
            "2021-12-13      Monday  Course Withdrawal period ends (Last day to wit...\n",
            "2021-12-14     Tuesday                                 Final Examinations\n",
            "2021-12-14     Tuesday                                        Reading Day\n",
            "2021-12-15   Wednesday                                 Final Examinations\n",
            "2021-12-16    Thursday                                 Final Examinations\n",
            "2021-12-17      Friday                                 Final Examinations\n",
            "2021-12-18    Saturday                                 Final Examinations\n",
            "2021-12-19      Sunday                                 Final Examinations\n",
            "2021-12-20      Monday                                 Final Examinations\n",
            "2021-12-21     Tuesday                                 Final Examinations\n",
            "2021-12-21     Tuesday                                        End of Term\n",
            "2021-12-21     Tuesday                                     College Closed\n",
            "2021-12-24      Friday                                     College Closed\n",
            "2021-12-25    Saturday                                     College Closed\n"
          ]
        }
      ]
    }
  ]
}