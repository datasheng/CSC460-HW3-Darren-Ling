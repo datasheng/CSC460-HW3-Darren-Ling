{
  "nbformat": 4,
  "nbformat_minor": 0,
  "metadata": {
    "colab": {
      "provenance": []
    },
    "kernelspec": {
      "name": "python3",
      "display_name": "Python 3"
    },
    "language_info": {
      "name": "python"
    }
  },
  "cells": [
    {
      "cell_type": "code",
      "execution_count": 14,
      "metadata": {
        "id": "xn68Ryx0Wsog"
      },
      "outputs": [],
      "source": [
        "# Import necessary libraries\n",
        "import requests\n",
        "import pandas as pd\n",
        "from bs4 import BeautifulSoup\n",
        "from datetime import datetime"
      ]
    },
    {
      "cell_type": "code",
      "source": [
        "# Create url variable\n",
        "url = \"https://www.ccny.cuny.edu/registrar/fall\"\n",
        "\n",
        "# Eackage request\n",
        "r = requests.get(url)\n",
        "\n",
        "# Extract response as html\n",
        "html_doc = r.text\n",
        "\n",
        "#Create BeautifulSoup object from html\n",
        "soup = BeautifulSoup(html_doc, 'html.parser')"
      ],
      "metadata": {
        "id": "HOurbzPNXT4T"
      },
      "execution_count": 15,
      "outputs": []
    },
    {
      "cell_type": "code",
      "source": [
        "# Scan for table\n",
        "table = soup.find('table')\n",
        "\n",
        "# Finds all rows in table\n",
        "rows = table.find_all('tr')\n",
        "\n",
        "# Create a list of dictionary\n",
        "data = []\n",
        "\n",
        "# Default year is hard coded since it isn't explicitly stated in the website\n",
        "default_year = \"2021\""
      ],
      "metadata": {
        "id": "Iy7a7Ts1ZUNy"
      },
      "execution_count": 16,
      "outputs": []
    },
    {
      "cell_type": "code",
      "source": [
        "for row in rows[1:]:\n",
        "  cols = row.find_all('td')\n",
        "  date_str = cols[0].get_text(strip=True)\n",
        "  text_str = cols[2].get_text(strip=True)\n",
        "\n",
        "  # Remove tabs and newlines\n",
        "  text_str = text_str.replace('\\t', ' ')\n",
        "  text_str = text_str.replace('\\n', ' ')\n",
        "\n",
        "  # Check if the year for 2022 since there is one date that is 2022\n",
        "  if ',' in date_str:\n",
        "    date_obj = datetime.strptime(date_str, '%B %d, %Y')\n",
        "  else:\n",
        "    # Check case for range of date\n",
        "    if '-' in date_str:\n",
        "      # Need to take care of case when date is a range\n",
        "      start_date_str, end_day_str = date_str.split(\" - \")\n",
        "      start_date = datetime.strptime(f'{start_date_str} {default_year}', '%B %d %Y')\n",
        "      end_date = datetime.strptime(f'{start_date_str.split()[0]} {end_day_str} {default_year}', '%B %d %Y')\n",
        "      # Append each day in the range to data\n",
        "      for single_date in pd.date_range(start=start_date, end=end_date):\n",
        "        day_of_week = single_date.strftime('%A')\n",
        "        data.append({\"date\" : single_date,\n",
        "                     \"day of the week\": day_of_week,\n",
        "                     \"text\": text_str})\n",
        "    else:\n",
        "      # edge case to handle single dates\n",
        "      date_obj = datetime.strptime(f'{date_str} {default_year}', '%B %d %Y')\n",
        "\n",
        "  # Get the day of the week\n",
        "  day_of_week = date_obj.strftime('%A')\n",
        "\n",
        "  # Append data to data list\n",
        "  data.append({\"date\" : date_obj,\n",
        "               \"day of the week\": day_of_week,\n",
        "               \"text\": text_str})\n",
        "\n",
        "  print(data)"
      ],
      "metadata": {
        "id": "YtxXLQ1SV7sY"
      },
      "execution_count": null,
      "outputs": []
    },
    {
      "cell_type": "code",
      "source": [
        "# Create data frame\n",
        "df = pd.DataFrame(data, columns=['Date', 'Day of Week', 'Text'])\n",
        "# Set index\n",
        "df.set_index('Date', inplace=True)"
      ],
      "metadata": {
        "id": "eFx3qlEDumgO"
      },
      "execution_count": 18,
      "outputs": []
    },
    {
      "cell_type": "code",
      "source": [
        "# Print result\n",
        "print(df)"
      ],
      "metadata": {
        "colab": {
          "base_uri": "https://localhost:8080/"
        },
        "id": "uN8tEpUEvyH8",
        "outputId": "644f9080-ea6f-4203-9a93-9a4011bebbc1"
      },
      "execution_count": 19,
      "outputs": [
        {
          "output_type": "stream",
          "name": "stdout",
          "text": [
            "      Day of Week  Text\n",
            "Date                   \n",
            "NaN           NaN   NaN\n",
            "NaN           NaN   NaN\n",
            "NaN           NaN   NaN\n",
            "NaN           NaN   NaN\n",
            "NaN           NaN   NaN\n",
            "...           ...   ...\n",
            "NaN           NaN   NaN\n",
            "NaN           NaN   NaN\n",
            "NaN           NaN   NaN\n",
            "NaN           NaN   NaN\n",
            "NaN           NaN   NaN\n",
            "\n",
            "[64 rows x 2 columns]\n"
          ]
        }
      ]
    }
  ]
}